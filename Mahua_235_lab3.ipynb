{
 "cells": [
  {
   "cell_type": "code",
   "execution_count": 2,
   "metadata": {},
   "outputs": [
    {
     "name": "stdout",
     "output_type": "stream",
     "text": [
      "{'name': ' MAhua', 'Domainname': 'MentalHealth', 'Regno': '2347235'}\n"
     ]
    }
   ],
   "source": [
    "\"\"\"Write a function in Python with a string such that it accepts a parameter- “stringsplit”. This encoded string will contain your name, domain name and register number. You can separate the values in the string by any number of underscores. [The string should not contain any other underscore symbols in your name, domain name and register number]. The function should return a Python dictionary with your name, domain name and register number.\n",
    "For example, if the input would be \" Aaron___Googleplaystore____2347201”. Then the function should return the output as follows:\n",
    "{ \"name\": \" Aaron \",\n",
    "\"Domain_name\": \" Googleplaystore \",\n",
    "\"Regno\": \"2347201\" }\n",
    "\"\"\"\n",
    "     \n",
    "def Mystring(stringsplit):\n",
    "    parts = stringsplit.split('_')\n",
    "    \n",
    "    dict = {\n",
    "        'name': parts[0],\n",
    "        'Domainname': parts[1],\n",
    "        'Regno': parts[2]\n",
    "    }\n",
    "    \n",
    "    return dict\n",
    "\n",
    "encoded_string = \" MAhua_MentalHealth_2347235\"\n",
    "Stringsplit = Mystring(encoded_string)\n",
    "print(Stringsplit)"
   ]
  }
 ],
 "metadata": {
  "kernelspec": {
   "display_name": "Python 3",
   "language": "python",
   "name": "python3"
  },
  "language_info": {
   "codemirror_mode": {
    "name": "ipython",
    "version": 3
   },
   "file_extension": ".py",
   "mimetype": "text/x-python",
   "name": "python",
   "nbconvert_exporter": "python",
   "pygments_lexer": "ipython3",
   "version": "3.10.8"
  },
  "orig_nbformat": 4
 },
 "nbformat": 4,
 "nbformat_minor": 2
}
